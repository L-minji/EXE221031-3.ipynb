{
  "nbformat": 4,
  "nbformat_minor": 0,
  "metadata": {
    "colab": {
      "provenance": [],
      "collapsed_sections": [],
      "authorship_tag": "ABX9TyPKTIXo447okzFxgO2I7RIt",
      "include_colab_link": true
    },
    "kernelspec": {
      "name": "python3",
      "display_name": "Python 3"
    },
    "language_info": {
      "name": "python"
    }
  },
  "cells": [
    {
      "cell_type": "markdown",
      "metadata": {
        "id": "view-in-github",
        "colab_type": "text"
      },
      "source": [
        "<a href=\"https://colab.research.google.com/github/L-minji/EXE221031-3.ipynb/blob/main/EXE221031_3.ipynb\" target=\"_parent\"><img src=\"https://colab.research.google.com/assets/colab-badge.svg\" alt=\"Open In Colab\"/></a>"
      ]
    },
    {
      "cell_type": "code",
      "execution_count": 2,
      "metadata": {
        "colab": {
          "base_uri": "https://localhost:8080/"
        },
        "id": "bj6ZR4RS0f_K",
        "outputId": "ceb5c8a4-80f3-4ecb-883c-ab856efee686"
      },
      "outputs": [
        {
          "output_type": "stream",
          "name": "stdout",
          "text": [
            "x의 값을 입력하시오.:4\n",
            "y의 값을 입력하시오.:5\n",
            "x와 y의 합은: 9\n",
            "x와 y의 차는: -1\n",
            "x와 y의 곱은: 20\n",
            "x와 y의 평균은: 4.5\n",
            "x와 y의 큰수는: 5\n",
            "x와 y의 작은수: 4\n"
          ]
        }
      ],
      "source": [
        "#정수의 합,차,곱,평균 구하는 문제\n",
        "x= int(input(\"x의 값을 입력하시오.:\"))\n",
        "y= int(input(\"y의 값을 입력하시오.:\"))\n",
        "\n",
        "print(\"x와 y의 합은:\",x+y)\n",
        "print(\"x와 y의 차는:\",x-y)\n",
        "print(\"x와 y의 곱은:\",x*y)\n",
        "print(\"x와 y의 평균은:\",(x+y)/2)\n",
        "print(\"x와 y의 큰수는:\",max(x,y))\n",
        "print(\"x와 y의 작은수:\",min(x,y))"
      ]
    },
    {
      "cell_type": "code",
      "source": [
        "#원기둥 부피 구하는 문제\n",
        "r=float(input(\"r값을 입력하시오:\"))    #변수 r의 값을 사용자로부터 받는다. float형으로\n",
        "h=float(input(\"h값을 입력하시오:\"))    #변수 h의 값을 사용자로부터 받는다. float형으로\n",
        "vol=3.141592*r**2*h\n",
        "print(\"원기둥의 부피는:\",vol,\"입니다.\")"
      ],
      "metadata": {
        "id": "fQ09ZdRh2okF"
      },
      "execution_count": null,
      "outputs": []
    },
    {
      "cell_type": "code",
      "source": [
        "#정수의 자리수를 구하는 문제\n",
        "number=int(input(\"정수를 입력하시오.:\"))\n",
        "sum=0      #변수 sum을 초기화 0으로 한다.\n",
        "sum =sum + number % 10\n",
        "number = number // 10\n",
        "sum =sum + number % 10\n",
        "number = number // 10\n",
        "sum =sum + number % 10\n",
        "number = number // 10\n",
        "sum =sum + number % 10\n",
        "number = number // 10\n",
        "print(\"자리수의 합:\",str(sum))"
      ],
      "metadata": {
        "colab": {
          "base_uri": "https://localhost:8080/"
        },
        "id": "2IG_VDVe6omd",
        "outputId": "ec435f73-a567-4111-fece-06a3e24a1904"
      },
      "execution_count": 4,
      "outputs": [
        {
          "output_type": "stream",
          "name": "stdout",
          "text": [
            "정수를 입력하시오.:1234\n",
            "자리수의 합: 10\n"
          ]
        }
      ]
    },
    {
      "cell_type": "code",
      "source": [
        "#두 좌표를 받아 두 점 사이의 거리를 구하는 문제\n",
        "x1=int(input(\"x1의 값:\"))\n",
        "y1=int(input(\"y1의 값:\"))\n",
        "\n",
        "x2=int(input(\"x2의 값:\"))\n",
        "y2=int(input(\"y2의 값:\"))\n",
        "dist=((x2-x1)**2+(y2-y1)**2)**0.5\n",
        "print(\"두점 사이의 거리=\",dist,\"입니다.\")"
      ],
      "metadata": {
        "colab": {
          "base_uri": "https://localhost:8080/"
        },
        "id": "Xblyo8S68BOF",
        "outputId": "fcbb58de-f8b4-431d-87e6-d83b21e7e692"
      },
      "execution_count": 6,
      "outputs": [
        {
          "output_type": "stream",
          "name": "stdout",
          "text": [
            "x1의 값:0\n",
            "y1의 값:0\n",
            "x2의 값:100\n",
            "y2의 값:100\n",
            "두점 사이의 거리= 141.4213562373095 입니다.\n"
          ]
        }
      ]
    },
    {
      "cell_type": "code",
      "source": [
        "#거북이 문제 썅 개어려워::\n",
        "import math\n",
        "x1=int(input(\"x1:\"))\n",
        "x1:0\n",
        "y1=int(input(\"y1:\"))\n",
        "y1:0\n",
        "x2=int(input(\"x2:\"))\n",
        "x2:100\n",
        "y2=int(input(\"y2:\"))\n",
        "y2:100\n",
        "dist=math.sqrt((x2-x1)**2+(y2-y1)**2)\n",
        "print(\"두점 사이의 거리는=\", dist)\n",
        "\n",
        "import turtle\n",
        "t=turtle.Turtle()\n",
        "t.shape(\"turtle\")\n",
        "t.lt(45)\n",
        "t.fd(141)\n",
        "t.setheading(0)\n",
        "t.goto(0,0)\n"
      ],
      "metadata": {
        "id": "tqn_O0HsCZDt"
      },
      "execution_count": null,
      "outputs": []
    },
    {
      "cell_type": "code",
      "source": [
        "#영국 그리니치 표준 시각\n",
        "import time\n",
        "fsecond=time.time()\n",
        "total_sec=int(fsecond)\n",
        "total_min=total_sec//60\n",
        "minute=total_min%60\n",
        "total_hour=total_min//60\n",
        "hour=total_hour%24\n",
        "\n",
        "print(\"현재시각은 (영국 그리니치 표준시각):\",str(hour)+\"시\"+str(minute)+\"분\")\n"
      ],
      "metadata": {
        "colab": {
          "base_uri": "https://localhost:8080/"
        },
        "id": "6o_SynkZH62e",
        "outputId": "02190b64-4e50-4320-80a0-e20c78ee3e94"
      },
      "execution_count": 10,
      "outputs": [
        {
          "output_type": "stream",
          "name": "stdout",
          "text": [
            "현재시각은 (영국 그리니치 표준시각): 3시46분\n"
          ]
        }
      ]
    }
  ]
}